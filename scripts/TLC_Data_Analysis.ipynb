{
  "nbformat": 4,
  "nbformat_minor": 0,
  "metadata": {
    "colab": {
      "provenance": []
    },
    "kernelspec": {
      "name": "python3",
      "display_name": "Python 3"
    },
    "language_info": {
      "name": "python"
    }
  },
  "cells": [
    {
      "cell_type": "code",
      "execution_count": null,
      "metadata": {
        "id": "c3wBtzlHynDB"
      },
      "outputs": [],
      "source": [
        "import pandas as pd\n",
        "import numpy as np\n",
        "import matplotlib.pyplot as plt\n",
        "import seaborn as sns\n",
        "import requests\n",
        "from datetime import datetime\n",
        "import calendar"
      ]
    },
    {
      "cell_type": "code",
      "source": [
        "#Extract data from FHV, HV-FHV,and Open Meteo for month of July\n",
        "filename = \"https://d37ci6vzurychx.cloudfront.net/trip-data/fhv_tripdata_2023-07.parquet\"\n",
        "\n",
        "response = requests.get(filename)\n",
        "\n",
        "if response.status_code == 200:\n",
        "    print(\"File exists\")\n",
        "else:\n",
        "    print(\"File not found\")\n"
      ],
      "metadata": {
        "id": "mE32zOehz0TB",
        "colab": {
          "base_uri": "https://localhost:8080/"
        },
        "outputId": "1f07dffe-40e5-4b3f-9d8a-3d4a0e5fd6a0"
      },
      "execution_count": null,
      "outputs": [
        {
          "output_type": "stream",
          "name": "stdout",
          "text": [
            "File exists\n"
          ]
        }
      ]
    },
    {
      "cell_type": "code",
      "source": [
        "df = pd.read_parquet(filename)\n",
        "print(df.head())"
      ],
      "metadata": {
        "colab": {
          "base_uri": "https://localhost:8080/"
        },
        "id": "Ku8S3Q9p3EHK",
        "outputId": "d3ec2cfa-7aae-443b-ab94-218937479453"
      },
      "execution_count": null,
      "outputs": [
        {
          "output_type": "stream",
          "name": "stdout",
          "text": [
            "  dispatching_base_num     pickup_datetime    dropOff_datetime  PUlocationID  \\\n",
            "0               B00112 2023-07-01 00:08:46 2023-07-01 00:15:08           NaN   \n",
            "1               B00112 2023-07-01 00:37:54 2023-07-01 19:45:55           NaN   \n",
            "2               B00112 2023-07-01 00:03:13 2023-07-01 00:04:54           NaN   \n",
            "3               B00112 2023-07-01 00:57:45 2023-07-01 01:01:17           NaN   \n",
            "4               B00149 2023-07-01 00:03:17 2023-07-01 00:14:50           NaN   \n",
            "\n",
            "   DOlocationID  SR_Flag Affiliated_base_number  \n",
            "0          14.0      NaN                 B00112  \n",
            "1         132.0      NaN                 B00112  \n",
            "2          14.0      NaN                 B00112  \n",
            "3          14.0      NaN                 B00112  \n",
            "4         181.0      NaN                 B00149  \n"
          ]
        }
      ]
    },
    {
      "cell_type": "code",
      "source": [
        "print(df.tail())"
      ],
      "metadata": {
        "colab": {
          "base_uri": "https://localhost:8080/"
        },
        "id": "4xOTtNWs9m3a",
        "outputId": "19d094fa-5e08-4a55-c6ae-f7b18365a705"
      },
      "execution_count": null,
      "outputs": [
        {
          "output_type": "stream",
          "name": "stdout",
          "text": [
            "        dispatching_base_num     pickup_datetime    dropOff_datetime  \\\n",
            "1370838               B03388 2023-07-31 23:34:25 2023-08-01 00:14:11   \n",
            "1370839               B03391 2023-07-31 23:59:00 2023-08-01 00:07:50   \n",
            "1370840               B03408 2023-07-31 23:37:43 2023-07-31 23:59:36   \n",
            "1370841               B03482 2023-07-31 23:00:38 2023-07-31 23:06:01   \n",
            "1370842               B03482 2023-07-31 23:16:27 2023-07-31 23:32:03   \n",
            "\n",
            "         PUlocationID  DOlocationID  SR_Flag Affiliated_base_number  \n",
            "1370838           NaN         100.0      NaN                 B03388  \n",
            "1370839           NaN         160.0      NaN                 B00647  \n",
            "1370840           NaN          41.0      NaN                 B03408  \n",
            "1370841           NaN          37.0      NaN                 B03482  \n",
            "1370842           NaN          65.0      NaN                 B03482  \n"
          ]
        }
      ]
    },
    {
      "cell_type": "code",
      "source": [
        "df.shape"
      ],
      "metadata": {
        "colab": {
          "base_uri": "https://localhost:8080/"
        },
        "id": "Jq3UGpLT-KGn",
        "outputId": "658bcc7e-78d6-41e8-b684-acb73066d11a"
      },
      "execution_count": null,
      "outputs": [
        {
          "output_type": "execute_result",
          "data": {
            "text/plain": [
              "(1370843, 7)"
            ]
          },
          "metadata": {},
          "execution_count": 9
        }
      ]
    },
    {
      "cell_type": "code",
      "source": [
        "print(df.columns)"
      ],
      "metadata": {
        "colab": {
          "base_uri": "https://localhost:8080/"
        },
        "id": "M-Ek3GHFFIFK",
        "outputId": "8cff300a-66a5-4791-d3a5-4f0c90a15364"
      },
      "execution_count": null,
      "outputs": [
        {
          "output_type": "stream",
          "name": "stdout",
          "text": [
            "Index(['dispatching_base_num', 'pickup_datetime', 'dropOff_datetime',\n",
            "       'PUlocationID', 'DOlocationID', 'SR_Flag', 'Affiliated_base_number'],\n",
            "      dtype='object')\n"
          ]
        }
      ]
    },
    {
      "cell_type": "code",
      "source": [
        "print(df.dtypes)"
      ],
      "metadata": {
        "colab": {
          "base_uri": "https://localhost:8080/"
        },
        "id": "_lGShV6Z6VUs",
        "outputId": "4af05c4a-992c-4cd9-a25d-f094bc3d7410"
      },
      "execution_count": null,
      "outputs": [
        {
          "output_type": "stream",
          "name": "stdout",
          "text": [
            "dispatching_base_num              object\n",
            "pickup_datetime           datetime64[ns]\n",
            "dropOff_datetime          datetime64[ns]\n",
            "PUlocationID                     float64\n",
            "DOlocationID                     float64\n",
            "SR_Flag                          float64\n",
            "Affiliated_base_number            object\n",
            "dtype: object\n"
          ]
        }
      ]
    },
    {
      "cell_type": "code",
      "source": [
        "#What is the significance of SR_Flag and PUloactionID?\n",
        "missingNum = 0\n",
        "hasNum = 0\n",
        "\n",
        "for x in df['SR_Flag']:\n",
        "  if pd.isna(x):\n",
        "    missingNum += 1\n",
        "  else:\n",
        "    hasNum +=1\n",
        "\n",
        "print(f'SR_Flag Count\\nAmount of NaNs: {missingNum} \\t Amount of rows populated: {hasNum}')"
      ],
      "metadata": {
        "id": "YEoSrsblDsSG",
        "colab": {
          "base_uri": "https://localhost:8080/"
        },
        "outputId": "6b66ec67-6434-487a-d019-29949c907b77"
      },
      "execution_count": null,
      "outputs": [
        {
          "output_type": "stream",
          "name": "stdout",
          "text": [
            "SR_Flag Count\n",
            "Amount of NaNs: 1370843 \t Amount of rows populated: 0\n"
          ]
        }
      ]
    },
    {
      "cell_type": "code",
      "source": [
        "missingNum = 0\n",
        "hasNum = 0\n",
        "\n",
        "for x in df['PUlocationID']:\n",
        "  if pd.isna(x):\n",
        "    missingNum += 1\n",
        "  else:\n",
        "    hasNum +=1\n",
        "\n",
        "print(f'PUlocationID Count\\nAmount of NaNs: {missingNum} \\t Amount of rows populated: {hasNum}')"
      ],
      "metadata": {
        "colab": {
          "base_uri": "https://localhost:8080/"
        },
        "id": "CXvrUVnVEYXG",
        "outputId": "afbf440a-a503-4464-c242-2a11c46ac1e2"
      },
      "execution_count": null,
      "outputs": [
        {
          "output_type": "stream",
          "name": "stdout",
          "text": [
            "PUlocationID Count\n",
            "Amount of NaNs: 1053778 \t Amount of rows populated: 317065\n"
          ]
        }
      ]
    },
    {
      "cell_type": "code",
      "source": [
        "count = 0\n",
        "\n",
        "for x in df['dispatching_base_num']:\n",
        "  if not df['dispatching_base_num'].equals(df['Affiliated_base_number']):\n",
        "    count += 1\n",
        "\n",
        "print(f'Total count where the dipatch and affiliated base numbers did not match:\\n{count}')\n",
        "\n",
        "affCount = count"
      ],
      "metadata": {
        "id": "Z8c7VbPxFDw1",
        "colab": {
          "base_uri": "https://localhost:8080/"
        },
        "outputId": "11a219ee-1a09-4d7f-8691-e09be7f35798"
      },
      "execution_count": null,
      "outputs": [
        {
          "output_type": "stream",
          "name": "stdout",
          "text": [
            "Total count where the dipatch and affiliated base numbers did not match:\n",
            "1370843\n"
          ]
        }
      ]
    },
    {
      "cell_type": "code",
      "source": [
        "def DOW ():\n",
        "\n",
        "  given_date = datetime.strptime(str(df['pickup_datetime'][1370842]), '%Y-%m-%d %H:%M:%S')\n",
        "  day_of_week = given_date.weekday()\n",
        "  if day_of_week == 0:\n",
        "    day = \"Monday\"\n",
        "  elif day_of_week == 1:\n",
        "    day = \"Tuesday\"\n",
        "  elif day_of_week == 2:\n",
        "    day = \"Wednesday\"\n",
        "  elif day_of_week == 3:\n",
        "    day = \"Thursday\"\n",
        "  elif day_of_week == 4:\n",
        "    day = \"Friday\"\n",
        "  elif day_of_week == 5:\n",
        "    day = \"Saturday\"\n",
        "  elif day_of_week == 6:\n",
        "    day = \"Sunday\"\n",
        "\n",
        "  return print(day)\n",
        "\n",
        "#July 1st was a Saturday\n",
        "#...Monday\n",
        "\n",
        "DOW()"
      ],
      "metadata": {
        "colab": {
          "base_uri": "https://localhost:8080/"
        },
        "id": "4tWSiTpCGVAA",
        "outputId": "4c25abac-49a7-4e5d-9645-b17eef84fc18"
      },
      "execution_count": null,
      "outputs": [
        {
          "output_type": "stream",
          "name": "stdout",
          "text": [
            "Monday\n"
          ]
        }
      ]
    },
    {
      "cell_type": "code",
      "source": [
        "#Aggregate total trips based on a date\n",
        "%%time\n",
        "\n",
        "def total_trip_Day():\n",
        "  print(\"***\" * 24)\n",
        "  print(\"**** DISCLAIMER: Range of data from July -> December 2023 permitted ****\")\n",
        "  print(\"***\" * 24)\n",
        "  month = int(input('\\nEnter month by number, e.g. July = 7:\\t'))\n",
        "  day = int(input('\\nEnter day by number as well:\\t'))\n",
        "\n",
        "  #search through df and match every trip with the month and day, keep count\n",
        "  #for every item in my df pick up time col where the month and day match\n",
        "  count = 0\n",
        "  for i in range(len(df)):\n",
        "    if df['pickup_datetime'][i] >= datetime(2023, month, day, 0, 0, 0) and df['pickup_datetime'][i] <= datetime(2023, month, day, 23, 59, 59):\n",
        "      count += 1\n",
        "  print(\"---\" * 15)\n",
        "  print(f\"\\nTotal trips on {month}/{day}/2023: {count:,} trips\\n\")\n",
        "  print(\"---\" * 15)\n",
        "\n",
        "\n",
        "total_trip_Day()"
      ],
      "metadata": {
        "colab": {
          "base_uri": "https://localhost:8080/"
        },
        "id": "_KZk4CP3_V3x",
        "outputId": "b1672bab-db3f-4fad-8bb4-8599178fb4a6"
      },
      "execution_count": null,
      "outputs": [
        {
          "output_type": "stream",
          "name": "stdout",
          "text": [
            "************************************************************************\n",
            "**** DISCLAIMER: Range of data from July -> December 2023 permitted ****\n",
            "************************************************************************\n",
            "\n",
            "Enter month by number, e.g. July = 7:\t7\n",
            "\n",
            "Enter day by number as well:\t1\n",
            "---------------------------------------------\n",
            "\n",
            "Total trips on 7/1/2023: 39,703 trips\n",
            "\n",
            "---------------------------------------------\n",
            "CPU times: user 37 s, sys: 98.9 ms, total: 37.1 s\n",
            "Wall time: 44.3 s\n"
          ]
        }
      ]
    },
    {
      "cell_type": "code",
      "source": [
        "#Does my total count of July match up with my total count of indices\n",
        "count = 0\n",
        "for i in range(len(df)):\n",
        "  if df['pickup_datetime'][i] >= datetime(2023, 7, 1, 0, 0, 0) and df['pickup_datetime'][i] <= datetime(2023, 7, 31, 23, 59, 59):\n",
        "    count += 1\n",
        "print(f'{count:,}')"
      ],
      "metadata": {
        "id": "22e0hrHBErKJ",
        "colab": {
          "base_uri": "https://localhost:8080/"
        },
        "outputId": "c760e17a-2687-4dae-e444-cc6915253f4f"
      },
      "execution_count": null,
      "outputs": [
        {
          "output_type": "stream",
          "name": "stdout",
          "text": [
            "1,370,843\n"
          ]
        }
      ]
    },
    {
      "cell_type": "code",
      "source": [
        "#Data validated\n",
        "for i in range(len(df)):\n",
        "  pass\n",
        "i += 1\n",
        "print(f'{i:,}')"
      ],
      "metadata": {
        "colab": {
          "base_uri": "https://localhost:8080/"
        },
        "id": "1BKlxQlIKuCP",
        "outputId": "c8d81f51-d27a-4564-a3b5-62242ad7093f"
      },
      "execution_count": null,
      "outputs": [
        {
          "output_type": "stream",
          "name": "stdout",
          "text": [
            "1,370,843\n"
          ]
        }
      ]
    },
    {
      "cell_type": "markdown",
      "source": [
        "-Filter by Borough\n",
        "\n",
        "\n",
        "-Total trips by taxi type\n",
        "\n",
        "\n",
        "-Total trips by taxi type by month, by day\n",
        "\n",
        "\n",
        "-Total trips by boroughs\n",
        "\n",
        "\n",
        "-Revenue by Boroughs\n"
      ],
      "metadata": {
        "id": "HSGM1eLmNetU"
      }
    },
    {
      "cell_type": "code",
      "source": [
        "#return trips by destination borough\n",
        "def boroughFilter():\n",
        "  locID = []\n",
        "\n",
        "  for x in df['DOlocationID']:\n",
        "    if x != 'nan':\n",
        "      locID.append(x)\n",
        "\n",
        "  print(locID)\n",
        "\n",
        "boroughFilter()"
      ],
      "metadata": {
        "colab": {
          "base_uri": "https://localhost:8080/"
        },
        "id": "JqFZOS2kNrp6",
        "outputId": "fbb3bf2a-8e05-422d-be98-5ed3afa9ace2"
      },
      "execution_count": null,
      "outputs": [
        {
          "output_type": "stream",
          "name": "stderr",
          "text": [
            "IOPub data rate exceeded.\n",
            "The notebook server will temporarily stop sending output\n",
            "to the client in order to avoid crashing it.\n",
            "To change this limit, set the config variable\n",
            "`--NotebookApp.iopub_data_rate_limit`.\n",
            "\n",
            "Current values:\n",
            "NotebookApp.iopub_data_rate_limit=1000000.0 (bytes/sec)\n",
            "NotebookApp.rate_limit_window=3.0 (secs)\n",
            "\n"
          ]
        }
      ]
    },
    {
      "cell_type": "code",
      "source": [],
      "metadata": {
        "id": "ApGPUFIJYT_3"
      },
      "execution_count": null,
      "outputs": []
    }
  ]
}